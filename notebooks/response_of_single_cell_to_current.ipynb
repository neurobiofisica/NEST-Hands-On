{
 "metadata": {
  "name": "",
  "signature": "sha256:2344c5f0c4641504ac771b17a36d6b77172988253860dd113482be786ef6cb2f"
 },
 "nbformat": 3,
 "nbformat_minor": 0,
 "worksheets": [
  {
   "cells": [
    {
     "cell_type": "code",
     "collapsed": false,
     "input": [
      "import sys\n",
      "import pylab as pl\n",
      "import numpy as np\n",
      "import nest"
     ],
     "language": "python",
     "metadata": {},
     "outputs": [],
     "prompt_number": 1
    },
    {
     "cell_type": "code",
     "collapsed": false,
     "input": [
      "T = 10000.               # simulation time (ms)\n",
      "dt = 0.1                 # simulation resolution (ms)\n",
      "\n",
      "Vth = 20.                # spike threshold (mV)\n",
      "Vrest = 0.               # resting potential (mV)\n",
      "Vreset = 0.              # reset potential (mv)\n",
      "Tref = 2.                # Refractory period (ms)\n",
      "\n",
      "I0 = 0.                  # Initial value of current\n",
      "If = 1e3                 # Final value of current\n",
      "nis = 100                 # Number of points"
     ],
     "language": "python",
     "metadata": {},
     "outputs": [],
     "prompt_number": 2
    },
    {
     "cell_type": "code",
     "collapsed": false,
     "input": [
      "nest.ResetKernel()\n",
      "nest.SetStatus([0],{\n",
      "    'resolution': dt,     ## set simulation resolution\n",
      "    'print_time': False   ## enable printing of simulation progress\n",
      "    })"
     ],
     "language": "python",
     "metadata": {},
     "outputs": [],
     "prompt_number": 3
    },
    {
     "cell_type": "code",
     "collapsed": false,
     "input": [
      "neuron_params = {'I_e': 0., 'E_L': Vrest, 'V_th': Vth, 'V_reset': Vreset, 't_ref' : Tref}\n",
      "neuron = nest.Create('iaf_psc_delta', params=neuron_params)\n",
      "\n",
      "\n",
      "## Cet up and connect spike detector\n",
      "sd = nest.Create('spike_detector')\n",
      "nest.Connect(neuron, sd)\n",
      "\n",
      "## Creating a voltimeter to follow the ending potential\n",
      "voltmeter=nest.Create('voltmeter')\n",
      "nest.Connect(voltmeter, neuron)"
     ],
     "language": "python",
     "metadata": {},
     "outputs": [],
     "prompt_number": 4
    },
    {
     "cell_type": "code",
     "collapsed": false,
     "input": [
      "def doit():\n",
      "    \n",
      "    currents = []\n",
      "    rates = []\n",
      "    \n",
      "    for j in range(nis):\n",
      "        \n",
      "        ## Restarting everything\n",
      "        # Restarting the simulation time\n",
      "        nest.SetStatus([0],{\n",
      "                'time' : 0.0\n",
      "                })\n",
      "        ## Setting the current\n",
      "        currents.append( I0 + di*j )\n",
      "        nest.SetStatus(neuron, {\n",
      "                'I_e' : currents[-1]\n",
      "                })\n",
      "        \n",
      "        # Restarting te sd counter.\n",
      "        nest.SetStatus(sd, [{'n_events' : 0}])\n",
      "        \n",
      "        # set random initial membrane potentials\n",
      "        nest.SetStatus(neuron,{'V_m':  Vrest + ((Vth-Vrest)*pylab.rand() ) })\n",
      "    \n",
      "        # Running the simulation after all\n",
      "        nest.Simulate(T)\n",
      "    \n",
      "        # compute average firing rate\n",
      "        rate=pylab.float32(nest.GetStatus(sd)[0]['n_events'])/T*1e3\n",
      "        rates.append( rate )\n",
      "        \n",
      "    return currents, rates"
     ],
     "language": "python",
     "metadata": {},
     "outputs": [],
     "prompt_number": 5
    },
    {
     "cell_type": "code",
     "collapsed": false,
     "input": [
      "di = (If - I0)/nis\n",
      "\n",
      "print 'Evaluating response....'\n",
      "\n",
      "currents, rates = doit()\n",
      "\n",
      "print 'Finished.'"
     ],
     "language": "python",
     "metadata": {},
     "outputs": [
      {
       "output_type": "stream",
       "stream": "stdout",
       "text": [
        "Evaluating response....\n",
        "Finished."
       ]
      },
      {
       "output_type": "stream",
       "stream": "stdout",
       "text": [
        "\n"
       ]
      }
     ],
     "prompt_number": 6
    },
    {
     "cell_type": "code",
     "collapsed": false,
     "input": [
      "## Ploting results\n",
      "pl.plot(currents, rates, 'r-', lw=3.0)\n",
      "\n",
      "pl.xlabel('Input current (?)')\n",
      "pl.ylabel('Firing rate (spikes/ms)')\n",
      "pl.title('Single neuron response curve')\n",
      "\n",
      "pgaux = .05*(If - I0)\n",
      "print pgaux\n",
      "pl.xlim(I0 - pgaux, If + pgaux)\n",
      "pl.ylim(min(rates) - 5., max(rates) + 5.)\n",
      "\n",
      "pl.show()"
     ],
     "language": "python",
     "metadata": {},
     "outputs": [
      {
       "output_type": "stream",
       "stream": "stdout",
       "text": [
        "50.0\n"
       ]
      },
      {
       "metadata": {},
       "output_type": "display_data",
       "png": "[encoded data removed]",
       "text": [
        "<matplotlib.figure.Figure at 0x7ff7caeeead0>"
       ]
      }
     ],
     "prompt_number": 7
    },
    {
     "cell_type": "code",
     "collapsed": false,
     "input": [
      "## Setting the external driven noise\n",
      "nest.SetDefaults(\"poisson_generator\", {\"rate\": 500.})\n",
      "noise = nest.Create(\"poisson_generator\")\n",
      "nest.Connect(noise, neuron)\n",
      "\n",
      "currents, rates = doit()"
     ],
     "language": "python",
     "metadata": {},
     "outputs": [],
     "prompt_number": 8
    },
    {
     "cell_type": "code",
     "collapsed": false,
     "input": [
      "## Ploting results\n",
      "pl.plot(currents, rates, 'r-', lw=3.0)\n",
      "\n",
      "pl.xlabel('Input current (?)')\n",
      "pl.ylabel('Firing rate (spikes/ms)')\n",
      "pl.title('Single neuron response curve')\n",
      "\n",
      "pgaux = .05*(If - I0)\n",
      "pl.xlim(I0 - pgaux, If + pgaux)\n",
      "pl.ylim(min(rates) - 5., max(rates) + 5.)\n",
      "\n",
      "pl.show()"
     ],
     "language": "python",
     "metadata": {},
     "outputs": [
      {
       "metadata": {},
       "output_type": "display_data",
       "png": "[encoded data removed]",
       "text": [
        "<matplotlib.figure.Figure at 0x7ff7c944fe10>"
       ]
      }
     ],
     "prompt_number": 9
    },
    {
     "cell_type": "markdown",
     "metadata": {},
     "source": [
      "<br />"
     ]
    }
   ],
   "metadata": {}
  }
 ]
}